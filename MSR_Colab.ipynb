{
  "cells": [
    {
      "cell_type": "code",
      "execution_count": 4,
      "id": "ec16b0b9",
      "metadata": {
        "id": "ec16b0b9"
      },
      "outputs": [],
      "source": [
        "import pandas as pd\n",
        "import numpy as np\n",
        "import matplotlib.pyplot as plt\n",
        "import ipywidgets as widgets\n",
        "from IPython.display import display, clear_output\n",
        "\n",
        "def generate_combo(a,b):\n",
        "    exclude_months = [\"Oct'24\", \"Nov'24\", \"Dec'24\", \"Jan'25\", \"Feb'25\"]\n",
        "    mask = ~a.index.isin(exclude_months)\n",
        "    fig, ax1 = plt.subplots(figsize=(10, 5))\n",
        "    bar_width = 0.35\n",
        "    bars = ax1.bar(a.index[mask], a['Submitted Overall'][mask], bar_width, alpha=0.3, color='aqua', label='Submitted Overall')\n",
        "    ax1.set_ylabel('Submitted overall')\n",
        "    ax2 = ax1.twinx()\n",
        "    ax2.plot(a.index[mask], a['Resolved Percentage'][mask], label='Resolved %', marker='s', color='blue')\n",
        "    ax2.set_ylabel('Resolved %')\n",
        "    ax2.set_yticks(np.arange(0, 120, 10))\n",
        "\n",
        "    for x, y in zip(a.index[mask], a['Submitted Overall'][mask]):\n",
        "        ax1.text(x, y + 3, str(y), ha='center', fontsize=11, fontweight='bold')\n",
        "    for x, y in zip(a.index[mask], a['Resolved Percentage'][mask]):\n",
        "        ax2.text(x, y - 5, str(y), ha='center', fontsize=10)\n",
        "\n",
        "    plt.title(b)\n",
        "    plt.xticks(rotation=45, ha='right')\n",
        "    fig.legend([ax2.get_lines()[0], bars], ['Resolved %', 'Submitted Overall'],\n",
        "               loc='center left', bbox_to_anchor=(0.6, 1.0), fontsize=10)\n",
        "    plt.tight_layout()\n",
        "    plt.subplots_adjust(right=0.8)\n",
        "    plt.show()\n",
        "\n",
        "def run_analysis(choice):\n",
        "    if choice == \"CMSP Trending\":\n",
        "        sheet = 'CMSP Trending'\n",
        "        title = \"CMSP Trending\"\n",
        "    elif choice == \"Remedy Ticket Trending\":\n",
        "        sheet = 'Remedy Ticket Trending'\n",
        "        title = \"Remedy Ticket Trending\"\n",
        "    else:\n",
        "        print(\"Invalid choice.\")\n",
        "        return\n",
        "\n",
        "    url = 'https://raw.githubusercontent.com/roypromit/MSR/main/MSR_Data.xlsx'\n",
        "    data = pd.read_excel(url, sheet_name=sheet, engine='openpyxl')\n",
        "    data['Month_dt'] = pd.to_datetime(data['Month'], format=\"%b'%y\")\n",
        "    grouped = data.groupby('Month_dt')[['Submitted Overall', 'Resolved Percentage']].sum()\n",
        "    grouped.index = grouped.index.strftime(\"%b'%y\")\n",
        "    generate_combo(grouped, title)\n"
      ]
    },
    {
      "cell_type": "code",
      "source": [
        "dropdown = widgets.Dropdown(\n",
        "    options=['CMSP Trending', 'Remedy Ticket Trending'],\n",
        "    value='CMSP Trending',\n",
        "    description='Choose:',\n",
        ")\n",
        "\n",
        "button = widgets.Button(description=\"Generate Graph\")\n",
        "\n",
        "output = widgets.Output()\n",
        "\n",
        "def on_button_clicked(b):\n",
        "    with output:\n",
        "        clear_output(wait=True)\n",
        "        run_analysis(dropdown.value)\n",
        "\n",
        "button.on_click(on_button_clicked)\n",
        "\n",
        "display(dropdown, button, output)\n"
      ],
      "metadata": {
        "id": "ygfmVuGB7Tqx"
      },
      "id": "ygfmVuGB7Tqx",
      "execution_count": null,
      "outputs": []
    }
  ],
  "metadata": {
    "language_info": {
      "name": "python"
    },
    "colab": {
      "provenance": []
    },
    "kernelspec": {
      "name": "python3",
      "display_name": "Python 3"
    }
  },
  "nbformat": 4,
  "nbformat_minor": 5
}