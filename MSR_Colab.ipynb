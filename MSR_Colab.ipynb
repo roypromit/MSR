{
 "cells": [
  {
   "cell_type": "code",
   "execution_count": null,
   "id": "ec16b0b9",
   "metadata": {},
   "outputs": [],
   "source": [
    "import pandas as pd\n",
    "import numpy as np\n",
    "import matplotlib.pyplot as plt\n",
    "\n",
    "def generate_combo(a,b):\n",
    "    exclude_months = [\"Oct'24\", \"Nov'24\", \"Dec'24\", \"Jan'25\", \"Feb'25\"]\n",
    "    mask = ~a.index.isin(exclude_months)\n",
    "    fig, ax1 = plt.subplots(figsize=(10, 5))\n",
    "    bar_width=0.35\n",
    "    bars = ax1.bar(a.index[mask], a['Submitted Overall'][mask], bar_width, alpha=0.3, color='aqua', label='Submitted Overall')\n",
    "    ax1.set_ylabel('Submitted overall')\n",
    "    ax2 = ax1.twinx()\n",
    "    ax2.plot(a.index[mask], a['Resolved Percentage'][mask], label='Resolved %', marker='s', color='blue')\n",
    "    ax2.set_ylabel('Resolved %')\n",
    "    ax2.set_yticks(np.arange(0, 120, 10))\n",
    "\n",
    "    for x, y in zip(a.index[mask], a['Submitted Overall'][mask]):\n",
    "        ax1.text(x, y + 3, str(y), ha='center', fontsize=11, fontweight='bold')\n",
    "    for x, y in zip(a.index[mask], a['Resolved Percentage'][mask]):\n",
    "        ax2.text(x, y -5, str(y), ha='center', fontsize=10)\n",
    "\n",
    "    plt.title(b)\n",
    "    plt.xticks(rotation=45, ha='right')\n",
    "    fig.legend([ax2.get_lines()[0], bars], ['Resolved %', 'Submitted Overall'],\n",
    "               loc='center left', bbox_to_anchor=(0.6, 1.0), fontsize=10)\n",
    "    plt.tight_layout()\n",
    "    plt.subplots_adjust(right=0.8)\n",
    "    plt.show()\n",
    "\n",
    "def run_analysis(choice):\n",
    "    if choice == \"1\":\n",
    "        data = pd.read_excel('https://raw.githubusercontent.com/roypromit/MSR/main/MSR_Data.xlsx',\n",
    "                             sheet_name='CMSP Trending', engine='openpyxl')\n",
    "        data['Month_dt'] = pd.to_datetime(data['Month'], format=\"%b'%y\")\n",
    "        grouped = data.groupby('Month_dt')[['Submitted Overall', 'Resolved Percentage']].sum()\n",
    "        grouped.index = grouped.index.strftime(\"%b'%y\")\n",
    "        generate_combo(grouped, \"CMSP Trending\")\n",
    "\n",
    "    elif choice == \"2\":\n",
    "        data = pd.read_excel('https://raw.githubusercontent.com/roypromit/MSR/main/MSR_Data.xlsx',\n",
    "                             sheet_name='Remedy Ticket Trending', engine='openpyxl')\n",
    "        data['Month_dt'] = pd.to_datetime(data['Month'], format=\"%b'%y\")\n",
    "        grouped = data.groupby('Month_dt')[['Submitted Overall', 'Resolved Percentage']].sum()\n",
    "        grouped.index = grouped.index.strftime(\"%b'%y\")\n",
    "        generate_combo(grouped, \"Remedy Ticket Trending\")\n",
    "\n",
    "    else:\n",
    "        print(\"Invalid choice\")"
   ]
  }
 ],
 "metadata": {
  "language_info": {
   "name": "python"
  }
 },
 "nbformat": 4,
 "nbformat_minor": 5
}
